{
 "cells": [
  {
   "cell_type": "code",
   "execution_count": 13,
   "metadata": {
    "collapsed": true
   },
   "outputs": [],
   "source": [
    "from aide_design import pipedatabase as pipe\n",
    "from aide_design.units import unit_registry as u\n",
    "from aide_design import physchem as pc\n",
    "import aide_design\n",
    "import numpy as np"
   ]
  },
  {
   "cell_type": "code",
   "execution_count": null,
   "metadata": {},
   "outputs": [],
   "source": [
    "flow = 30 * u.L/u.s\n",
    "pipe_sed_to_filter_ND = 8 * u.inch\n",
    "pipe_sed_to_filter_SDR = 26\n",
    "pipe_sed_to_filter_length = 20 * u.m\n",
    "pipe_sed_to_filter_kminor = 4\n",
    "PVC_ROUGHNESS = 0.0015 * u.mm\n",
    "NU_WATER = 1 * 10**-6 * u.m**2/u.s \n",
    "\n"
   ]
  },
  {
   "cell_type": "markdown",
   "metadata": {},
   "source": [
    "# Determining HeadLoss for only one pipe between sed and filter\n",
    "\n",
    "We need to know that the sed tank drain channel won't back up and prevent free fall from the sed tank exit canal. Therefore the difference in height between the wier in the filter and the wier in the sed channel has to be greater than the headloss in the worst case scenario in the pipe network between the two channels.\n",
    "\n",
    "## Determine designed height from AutoCAD design: \n",
    "\n",
    "<img src=\"images/sed_to_filter_height.png\">\n",
    "\n",
    "Notice that the height between the two is 40cm (on the right hand side)."
   ]
  },
  {
   "cell_type": "code",
   "execution_count": 3,
   "metadata": {
    "collapsed": true
   },
   "outputs": [
    {
     "data": {
      "text/latex": [
       "$0.2473188840426446\\ \\mathrm{meter}$"
      ],
      "text/plain": [
       "<Quantity(0.2473188840426446, 'meter')>"
      ]
     },
     "metadata": {},
     "output_type": "display_data"
    }
   ],
   "source": [
    "pc.headloss(flow, pipe.ID_SDR(pipe_sed_to_filter_ND,pipe_sed_to_filter_SDR), pipe_sed_to_filter_length, \n",
    "           NU_WATER , PVC_ROUGHNESS, pipe_sed_to_filter_kminor)"
   ]
  },
  {
   "cell_type": "markdown",
   "metadata": {},
   "source": [
    "This is a rough calculation that shows with even a kminor = 4 and 20 m of pipe, there is still 40-25 = 15cm of free fall into the sed exit tank. "
   ]
  },
  {
   "cell_type": "markdown",
   "metadata": {},
   "source": [
    "# Calculation of the Polycarbonate Sheets for Flocculator AND Plate Settlers\n",
    "We need to measure the number of 8' and 12' sheets to get from Mexichem\n",
    "## Flocculator\n",
    "<img src=\"images/Flocculator_side.png\">\n",
    "This implies the following dimensions:\n",
    "\n",
    "\n",
    "\n"
   ]
  },
  {
   "cell_type": "code",
   "execution_count": 36,
   "metadata": {},
   "outputs": [],
   "source": []
  },
  {
   "cell_type": "code",
   "execution_count": null,
   "metadata": {},
   "outputs": [],
   "source": []
  }
 ],
 "metadata": {
  "kernelspec": {
   "display_name": "Python 2",
   "language": "python",
   "name": "python2"
  },
  "language_info": {
   "codemirror_mode": {
    "name": "ipython",
    "version": 2
   },
   "file_extension": ".py",
   "mimetype": "text/x-python",
   "name": "python",
   "nbconvert_exporter": "python",
   "pygments_lexer": "ipython2",
   "version": "2.7.6"
  }
 },
 "nbformat": 4,
 "nbformat_minor": 0
}
