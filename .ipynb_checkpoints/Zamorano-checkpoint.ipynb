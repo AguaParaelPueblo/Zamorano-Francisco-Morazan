{
 "cells": [
  {
   "cell_type": "code",
   "execution_count": 9,
   "metadata": {
    "collapsed": true
   },
   "outputs": [],
   "source": [
    "from aide_design import pipedatabase as pipe\n",
    "from aide_design.units import unit_registry as u\n",
    "from aide_design import physchem as pc\n",
    "import aide_design"
   ]
  },
  {
   "cell_type": "markdown",
   "metadata": {},
   "source": [
    "# Determining HeadLoss for only one pipe between sed and filter\n",
    "\n",
    "We need to know that the sed tank drain channel won't back up and prevent free fall from the sed tank exit canal. Therefore the difference in height between the wier in the filter and the wier in the sed channel has to be greater than the headloss in the worst case scenario in the pipe network between the two channels."
   ]
  },
  {
   "cell_type": "code",
   "execution_count": null,
   "metadata": {
    "collapsed": true
   },
   "outputs": [],
   "source": []
  },
  {
   "cell_type": "code",
   "execution_count": 10,
   "metadata": {},
   "outputs": [
    {
     "data": {
      "text/latex": [
       "$0.2591535067156636\\ \\mathrm{meter}$"
      ],
      "text/plain": [
       "<Quantity(0.2591535067156636, 'meter')>"
      ]
     },
     "metadata": {},
     "output_type": "display_data"
    }
   ],
   "source": [
    "pc.headloss(30 * u.L/u.s, 20 * u.cm, 20 * u.m, 1 * 10**-6 * u.m**2/u.s , 0.0015 * u.mm, 4)"
   ]
  },
  {
   "cell_type": "code",
   "execution_count": null,
   "metadata": {
    "collapsed": true
   },
   "outputs": [],
   "source": []
  }
 ],
 "metadata": {
  "kernelspec": {
   "display_name": "py36-test",
   "language": "python",
   "name": "py36-test"
  },
  "language_info": {
   "codemirror_mode": {
    "name": "ipython",
    "version": 2
   },
   "file_extension": ".py",
   "mimetype": "text/x-python",
   "name": "python",
   "nbconvert_exporter": "python",
   "pygments_lexer": "ipython2",
   "version": "2.7.6"
  }
 },
 "nbformat": 4,
 "nbformat_minor": 1
}
